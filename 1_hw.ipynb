{
 "cells": [
  {
   "cell_type": "code",
   "execution_count": null,
   "metadata": {},
   "outputs": [],
   "source": [
    "a = 88888\n",
    "sum_a = 0\n",
    "for _ in range(1, a + 1):\n",
    "    sum_a += _\n",
    "\n",
    "print(sum_a)"
   ]
  },
  {
   "cell_type": "code",
   "execution_count": null,
   "metadata": {},
   "outputs": [],
   "source": [
    "import math\n",
    "import sys\n",
    "sys.set_int_max_str_digits(10000)\n",
    "a = math.factorial(2024)\n",
    "\n",
    "print(a)"
   ]
  },
  {
   "cell_type": "code",
   "execution_count": 2,
   "metadata": {},
   "outputs": [
    {
     "name": "stdout",
     "output_type": "stream",
     "text": [
      "51.348\n"
     ]
    }
   ],
   "source": [
    "import random\n",
    "\n",
    "list_int = [random.randint(1, 100) for _ in range(1000)]\n",
    "\n",
    "print(sum(list_int)/ len(list_int))"
   ]
  }
 ],
 "metadata": {
  "language_info": {
   "name": "python"
  }
 },
 "nbformat": 4,
 "nbformat_minor": 2
}
