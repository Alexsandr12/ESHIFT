{
 "cells": [
  {
   "cell_type": "code",
   "execution_count": 1,
   "metadata": {},
   "outputs": [
    {
     "name": "stdout",
     "output_type": "stream",
     "text": [
      "3950582716\n"
     ]
    }
   ],
   "source": [
    "# Сумма чисел от 0 до 88888\n",
    "\n",
    "a = 88888\n",
    "sum_a = 0\n",
    "for _ in range(1, a + 1):\n",
    "    sum_a += _\n",
    "\n",
    "print(sum_a)"
   ]
  },
  {
   "cell_type": "code",
   "execution_count": null,
   "metadata": {},
   "outputs": [],
   "source": [
    "# Факториал 2024\n",
    "\n",
    "import math\n",
    "import sys\n",
    "sys.set_int_max_str_digits(10000)\n",
    "a = math.factorial(2024)\n",
    "\n",
    "print(a)"
   ]
  },
  {
   "cell_type": "code",
   "execution_count": 4,
   "metadata": {},
   "outputs": [
    {
     "name": "stdout",
     "output_type": "stream",
     "text": [
      "50.506\n",
      "50.181\n"
     ]
    }
   ],
   "source": [
    "# Среднее тысячи случайных чисел [0: 100]\n",
    "\n",
    "# Первый способ\n",
    "import random\n",
    "list_int = [random.randint(1, 100) for _ in range(1000)]\n",
    "print(sum(list_int)/ len(list_int))\n",
    "\n",
    "# Второй способ\n",
    "import numpy as np\n",
    "list_int = np.random.randint(0, 101, 1000)\n",
    "print(np.mean(list_int))"
   ]
  }
 ],
 "metadata": {
  "language_info": {
   "name": "python"
  }
 },
 "nbformat": 4,
 "nbformat_minor": 2
}
